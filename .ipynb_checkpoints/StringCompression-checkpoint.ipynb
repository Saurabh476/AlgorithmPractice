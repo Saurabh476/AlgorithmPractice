{
 "cells": [
  {
   "cell_type": "code",
   "execution_count": 4,
   "metadata": {},
   "outputs": [
    {
     "name": "stdout",
     "output_type": "stream",
     "text": [
      "Enter String : aabcccccaaa\n",
      "a5b1c5"
     ]
    }
   ],
   "source": [
    "# count no of type of each characters\n",
    "import numpy as np\n",
    "inputString = input(\"Enter String : \")\n",
    "hashTable = np.zeros(128)\n",
    "for char in inputString:\n",
    "    hashTable[ord(char)] += 1\n",
    "for i in range(len(hashTable)):\n",
    "    if hashTable[i] != 0:\n",
    "        char = chr(i)\n",
    "        print(char + str(int(hashTable[i])),end='')"
   ]
  },
  {
   "cell_type": "code",
   "execution_count": 23,
   "metadata": {},
   "outputs": [
    {
     "name": "stdout",
     "output_type": "stream",
     "text": [
      "Enter String : aabcccaaacccc\n",
      "a2b1c3a3c4\n"
     ]
    }
   ],
   "source": [
    "# string compression as asked in question \n",
    "# complexity O(n) but we are concatenating strings together\n",
    "inputString = input(\"Enter String : \")\n",
    "itr = 0\n",
    "totalConcatenation = 0\n",
    "hashTable = np.zeros(128)\n",
    "stringLength = len(inputString)\n",
    "outputString = ''\n",
    "i=0\n",
    "while i< stringLength:\n",
    "    j = i\n",
    "    count = 0\n",
    "    while j < stringLength:\n",
    "        if inputString[j] == inputString[i]:\n",
    "            count += 1\n",
    "            j += 1\n",
    "        else:\n",
    "            totalConcatenation += 1\n",
    "            outputString += inputString[i] + str(count)\n",
    "            i = j\n",
    "            break\n",
    "        # to find total iterations\n",
    "        itr += 1\n",
    "    if j  == stringLength:\n",
    "        totalConcatenation += 1\n",
    "        outputString += inputString[i] + str(count)\n",
    "        break\n",
    "if len(outputString) < stringLength:\n",
    "    print(outputString)\n",
    "else:\n",
    "    print(inputString)"
   ]
  },
  {
   "cell_type": "code",
   "execution_count": 24,
   "metadata": {},
   "outputs": [
    {
     "data": {
      "text/plain": [
       "13"
      ]
     },
     "execution_count": 24,
     "metadata": {},
     "output_type": "execute_result"
    }
   ],
   "source": [
    "itr"
   ]
  },
  {
   "cell_type": "code",
   "execution_count": 25,
   "metadata": {},
   "outputs": [
    {
     "data": {
      "text/plain": [
       "5"
      ]
     },
     "execution_count": 25,
     "metadata": {},
     "output_type": "execute_result"
    }
   ],
   "source": [
    "totalConcatenation"
   ]
  },
  {
   "cell_type": "code",
   "execution_count": 30,
   "metadata": {},
   "outputs": [
    {
     "name": "stdout",
     "output_type": "stream",
     "text": [
      "Enter String : aabcccade\n",
      "aabcccade\n"
     ]
    }
   ],
   "source": [
    "# string compression as asked in question \n",
    "# complexity O(n) but we are concatenating strings together\n",
    "inputString = input(\"Enter String : \")\n",
    "itr = 0\n",
    "finalList = []\n",
    "stringLength = len(inputString)\n",
    "outputString = ''\n",
    "i=0\n",
    "while i< stringLength:\n",
    "    j = i\n",
    "    count = 0\n",
    "    while j < stringLength:\n",
    "        if inputString[j] == inputString[i]:\n",
    "            count += 1\n",
    "            j += 1\n",
    "        else:\n",
    "            finalList.append((inputString[i],str(count)))\n",
    "            i = j\n",
    "            break\n",
    "        # to find total iterations\n",
    "        itr += 1\n",
    "    if j  == stringLength:\n",
    "        for item in finalList:\n",
    "            char, count = item\n",
    "            outputString += char + count\n",
    "        outputString += inputString[i] + str(count)\n",
    "        break\n",
    "if len(outputString) < stringLength:\n",
    "    print(outputString)\n",
    "else:\n",
    "    print(inputString)"
   ]
  },
  {
   "cell_type": "code",
   "execution_count": null,
   "metadata": {},
   "outputs": [],
   "source": []
  }
 ],
 "metadata": {
  "kernelspec": {
   "display_name": "Python 3",
   "language": "python",
   "name": "python3"
  },
  "language_info": {
   "codemirror_mode": {
    "name": "ipython",
    "version": 3
   },
   "file_extension": ".py",
   "mimetype": "text/x-python",
   "name": "python",
   "nbconvert_exporter": "python",
   "pygments_lexer": "ipython3",
   "version": "3.8.5"
  }
 },
 "nbformat": 4,
 "nbformat_minor": 4
}
