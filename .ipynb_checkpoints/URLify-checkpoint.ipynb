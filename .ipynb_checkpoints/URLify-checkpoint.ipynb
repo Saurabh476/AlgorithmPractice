{
 "cells": [
  {
   "cell_type": "code",
   "execution_count": 26,
   "metadata": {},
   "outputs": [
    {
     "name": "stdout",
     "output_type": "stream",
     "text": [
      "Enter String : mr ey lega peda of vo sk se eiie s\n",
      "mr%20ey%20lega%20peda%20of%20vo%20sk%20se%20eiie%20s\n"
     ]
    }
   ],
   "source": [
    "string = input(\"Enter String : \")\n",
    "originalLength = len(string)\n",
    "# working on reverser string\n",
    "# 2 spaces i.e count are there so we move the array 6 spaces and whenever we encounter\n",
    "# a space we replace it with '%20'\n",
    "i = originalLength-1\n",
    "while i>=0:\n",
    "    if string[i] != ' ':\n",
    "        i -= 1\n",
    "    else:\n",
    "        string = string[0:i] + '%20' + string[i+1:]\n",
    "        originalLength += 3\n",
    "        i -=1\n",
    "print(string)"
   ]
  },
  {
   "cell_type": "code",
   "execution_count": null,
   "metadata": {},
   "outputs": [],
   "source": []
  }
 ],
 "metadata": {
  "kernelspec": {
   "display_name": "Python 3",
   "language": "python",
   "name": "python3"
  },
  "language_info": {
   "codemirror_mode": {
    "name": "ipython",
    "version": 3
   },
   "file_extension": ".py",
   "mimetype": "text/x-python",
   "name": "python",
   "nbconvert_exporter": "python",
   "pygments_lexer": "ipython3",
   "version": "3.8.5"
  }
 },
 "nbformat": 4,
 "nbformat_minor": 4
}
