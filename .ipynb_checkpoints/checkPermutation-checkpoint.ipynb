{
 "cells": [
  {
   "cell_type": "code",
   "execution_count": 15,
   "metadata": {},
   "outputs": [
    {
     "name": "stdout",
     "output_type": "stream",
     "text": [
      "Enter First String123\n",
      "Enter Second String1256\n"
     ]
    }
   ],
   "source": [
    "import numpy as np\n",
    "def findHashTable(inputString):\n",
    "    hashTable = np.zeros(128)\n",
    "    for char in inputString:\n",
    "        hashTable[ord(char)] += 1\n",
    "    return hashTable\n",
    "inputString1 = input(\"Enter First String\")\n",
    "inputString2 = input(\"Enter Second String\")\n",
    "hashTable1 = findHashTable(inputString1)\n",
    "hashTable2 = findHashTable(inputString2)"
   ]
  },
  {
   "cell_type": "code",
   "execution_count": 16,
   "metadata": {},
   "outputs": [
    {
     "name": "stdout",
     "output_type": "stream",
     "text": [
      "No permutation\n"
     ]
    }
   ],
   "source": [
    "# string with smaller lenth must have all its elements in larger string but vice versa\n",
    "# need NOT be true \n",
    "if len(inputString1) <= len(inputString2):\n",
    "    if (hashTable1 <= hashTable2).all():\n",
    "        print(\"Permuation available\")\n",
    "    else:\n",
    "        print(\"No permutation\")\n",
    "else:\n",
    "    if (hashTable1 >= hashTable2).all():\n",
    "        print(\"Permuation available\")\n",
    "    else:\n",
    "        print(\"No permutation\")"
   ]
  },
  {
   "cell_type": "code",
   "execution_count": null,
   "metadata": {},
   "outputs": [],
   "source": []
  }
 ],
 "metadata": {
  "kernelspec": {
   "display_name": "Python 3",
   "language": "python",
   "name": "python3"
  },
  "language_info": {
   "codemirror_mode": {
    "name": "ipython",
    "version": 3
   },
   "file_extension": ".py",
   "mimetype": "text/x-python",
   "name": "python",
   "nbconvert_exporter": "python",
   "pygments_lexer": "ipython3",
   "version": "3.8.5"
  }
 },
 "nbformat": 4,
 "nbformat_minor": 4
}
