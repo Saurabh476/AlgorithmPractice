{
 "cells": [
  {
   "cell_type": "code",
   "execution_count": 10,
   "metadata": {},
   "outputs": [
    {
     "name": "stdout",
     "output_type": "stream",
     "text": [
      "Enter the String12345\n",
      "NO Duplicates\n"
     ]
    }
   ],
   "source": [
    "import numpy as np\n",
    "hashTable = np.zeros(128)\n",
    "inputString = input('Enter the String')\n",
    "flag = 0\n",
    "for character in inputString:\n",
    "    hashValue = ord(character)\n",
    "    if hashTable[hashValue] == 1 :\n",
    "        print(\"Duplicate Found\")\n",
    "        flag = 1\n",
    "        break\n",
    "    hashTable[hashValue] = 1\n",
    "\n",
    "if flag == 0:\n",
    "    print(\"NO Duplicates\")"
   ]
  },
  {
   "cell_type": "code",
   "execution_count": null,
   "metadata": {},
   "outputs": [],
   "source": []
  }
 ],
 "metadata": {
  "kernelspec": {
   "display_name": "Python 3",
   "language": "python",
   "name": "python3"
  },
  "language_info": {
   "codemirror_mode": {
    "name": "ipython",
    "version": 3
   },
   "file_extension": ".py",
   "mimetype": "text/x-python",
   "name": "python",
   "nbconvert_exporter": "python",
   "pygments_lexer": "ipython3",
   "version": "3.8.5"
  }
 },
 "nbformat": 4,
 "nbformat_minor": 4
}
