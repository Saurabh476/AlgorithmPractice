{
 "cells": [
  {
   "cell_type": "code",
   "execution_count": 5,
   "metadata": {},
   "outputs": [
    {
     "name": "stdout",
     "output_type": "stream",
     "text": [
      "Enter 1st string pale\n",
      "Enter 2nd string bale\n",
      "True\n"
     ]
    }
   ],
   "source": [
    "# checking for differences if more than 1 found then false\n",
    "string1 = input(\"Enter 1st string \")\n",
    "string2 = input(\"Enter 2nd string \")\n",
    "count = 0\n",
    "len1 = len(string1)\n",
    "len2 = len(string2)\n",
    "if len1 == len2:\n",
    "    # checking for replacement \n",
    "    for i in range(len(string2)):\n",
    "        if string1[i] != string2[i]:\n",
    "            count += 1\n",
    "    if count >1:\n",
    "        print(\"False\")\n",
    "\n",
    "elif len1 >= len2:\n",
    "    i =0\n",
    "    j=0\n",
    "    while i>len1 and j>len2:\n",
    "        if string1[i] == string2[j]:\n",
    "            i += 1\n",
    "            j+= 1\n",
    "        else:\n",
    "            i += 1\n",
    "            count += 1\n",
    "        if count >1:\n",
    "            print(\"False\")\n",
    "            break\n",
    "else:\n",
    "    i=0\n",
    "    j=0\n",
    "    while i>len2 and j>len1:\n",
    "        if string2[i] == string1[j]:\n",
    "            i += 1\n",
    "            j += 1\n",
    "        else:\n",
    "            i += 1\n",
    "            count += 1\n",
    "        if count >1:\n",
    "            print(\"False\")\n",
    "            break\n",
    "if count <=1:\n",
    "    print(\"True\")"
   ]
  },
  {
   "cell_type": "code",
   "execution_count": null,
   "metadata": {},
   "outputs": [],
   "source": []
  }
 ],
 "metadata": {
  "kernelspec": {
   "display_name": "Python 3",
   "language": "python",
   "name": "python3"
  },
  "language_info": {
   "codemirror_mode": {
    "name": "ipython",
    "version": 3
   },
   "file_extension": ".py",
   "mimetype": "text/x-python",
   "name": "python",
   "nbconvert_exporter": "python",
   "pygments_lexer": "ipython3",
   "version": "3.8.5"
  }
 },
 "nbformat": 4,
 "nbformat_minor": 4
}
