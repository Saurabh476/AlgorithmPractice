{
 "cells": [
  {
   "cell_type": "code",
   "execution_count": 28,
   "metadata": {},
   "outputs": [],
   "source": [
    "# O(n) complexity with addition hashTable used of 128 size\n",
    "inputString = '3124541623'\n",
    "inputString = inputString.lower()\n",
    "hashTable = [0 for i in range(128)]"
   ]
  },
  {
   "cell_type": "code",
   "execution_count": 29,
   "metadata": {},
   "outputs": [
    {
     "output_type": "stream",
     "name": "stdout",
     "text": [
      "True\n"
     ]
    }
   ],
   "source": [
    "for char in inputString:\n",
    "    hashTable[ord(char)] += 1\n",
    "\n",
    "singleVariableCount = 0\n",
    "for i in range(128):\n",
    "    if hashTable[i]%2 == 1:\n",
    "        singleVariableCount += 1\n",
    "\n",
    "if singleVariableCount >2:\n",
    "    print(\"False\")\n",
    "else:\n",
    "    print('True')"
   ]
  },
  {
   "cell_type": "code",
   "execution_count": 30,
   "metadata": {},
   "outputs": [
    {
     "output_type": "execute_result",
     "data": {
      "text/plain": [
       "'3124541623'"
      ]
     },
     "metadata": {},
     "execution_count": 30
    }
   ],
   "source": [
    "inputString"
   ]
  },
  {
   "cell_type": "code",
   "execution_count": null,
   "metadata": {},
   "outputs": [],
   "source": []
  }
 ],
 "metadata": {
  "kernelspec": {
   "display_name": "Python 3",
   "language": "python",
   "name": "python3"
  },
  "language_info": {
   "codemirror_mode": {
    "name": "ipython",
    "version": 3
   },
   "file_extension": ".py",
   "mimetype": "text/x-python",
   "name": "python",
   "nbconvert_exporter": "python",
   "pygments_lexer": "ipython3",
   "version": "3.8.5-final"
  }
 },
 "nbformat": 4,
 "nbformat_minor": 4
}