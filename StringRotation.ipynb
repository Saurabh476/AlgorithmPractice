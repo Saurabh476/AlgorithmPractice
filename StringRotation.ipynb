{
 "cells": [
  {
   "cell_type": "code",
   "execution_count": 6,
   "metadata": {},
   "outputs": [
    {
     "output_type": "stream",
     "name": "stdout",
     "text": [
      "NOT Rotation\n"
     ]
    }
   ],
   "source": [
    "inputString1  = input(\"Enter first string\")\n",
    "inputString2  = input(\"Enter second string\")\n",
    "\n",
    "concatenatedString = inputString2 + inputString2\n",
    "def isSubstring(string,subString):\n",
    "    if string.find(subString) == -1:\n",
    "        print(\"NOT Rotation\")\n",
    "        return\n",
    "    print(\"Rotation\")\n",
    "\n",
    "isSubstring(concatenatedString,inputString1)\n",
    "    \n"
   ]
  },
  {
   "cell_type": "code",
   "execution_count": null,
   "metadata": {},
   "outputs": [],
   "source": []
  }
 ],
 "metadata": {
  "kernelspec": {
   "name": "python3",
   "display_name": "Python 3.8.5 64-bit (conda)",
   "metadata": {
    "interpreter": {
     "hash": "cad6b182a7e6ba85d97f852c3320a9d58993a3e714db58f319d4e5ac8dfb2b07"
    }
   }
  }
 },
 "nbformat": 4,
 "nbformat_minor": 4
}