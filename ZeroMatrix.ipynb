{
 "cells": [
  {
   "cell_type": "code",
   "execution_count": 48,
   "metadata": {},
   "outputs": [],
   "source": [
    "import numpy as np\n",
    "matrix = np.arange(30)\n",
    "matrix = matrix.reshape(6,5)\n",
    "matrix[3,4] = 0"
   ]
  },
  {
   "cell_type": "code",
   "execution_count": 46,
   "metadata": {},
   "outputs": [],
   "source": [
    "# using separete data structure\n",
    "zeroLocation = []\n",
    "for i in range(6):\n",
    "    for j in range(5):\n",
    "        if matrix[i,j] == 0:\n",
    "            zeroLocation.append((i,j))\n",
    "for item in zeroLocation:\n",
    "    iLoc,jLoc = item\n",
    "    for i in range(6):\n",
    "        matrix[i,jLoc] = 0\n",
    "    for j in range(5):\n",
    "        matrix[iLoc,j] = 0"
   ]
  },
  {
   "cell_type": "code",
   "execution_count": 49,
   "metadata": {},
   "outputs": [
    {
     "data": {
      "text/plain": [
       "array([[ 0,  1,  2,  3,  4],\n",
       "       [ 5,  6,  7,  8,  9],\n",
       "       [10, 11, 12, 13, 14],\n",
       "       [15, 16, 17, 18,  0],\n",
       "       [20, 21, 22, 23, 24],\n",
       "       [25, 26, 27, 28, 29]])"
      ]
     },
     "execution_count": 49,
     "metadata": {},
     "output_type": "execute_result"
    }
   ],
   "source": [
    "matrix"
   ]
  },
  {
   "cell_type": "code",
   "execution_count": null,
   "metadata": {},
   "outputs": [],
   "source": [
    "# using No additional Data Structure\n",
    "for i in range(6):\n",
    "    for j in range(5):\n",
    "        if matrix[i,j] == 0:\n",
    "            zeroLocation.append((i,j))"
   ]
  }
 ],
 "metadata": {
  "kernelspec": {
   "display_name": "Python 3",
   "language": "python",
   "name": "python3"
  },
  "language_info": {
   "codemirror_mode": {
    "name": "ipython",
    "version": 3
   },
   "file_extension": ".py",
   "mimetype": "text/x-python",
   "name": "python",
   "nbconvert_exporter": "python",
   "pygments_lexer": "ipython3",
   "version": "3.8.5"
  }
 },
 "nbformat": 4,
 "nbformat_minor": 2
}
