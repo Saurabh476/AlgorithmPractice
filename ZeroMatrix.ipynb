{
 "cells": [
  {
   "cell_type": "code",
   "execution_count": 34,
   "metadata": {},
   "outputs": [],
   "source": [
    "import numpy as np\n",
    "matrix = np.arange(30)\n",
    "matrix = matrix.reshape(6,5)\n",
    "matrix[3,4] = 0"
   ]
  },
  {
   "cell_type": "code",
   "execution_count": 6,
   "metadata": {},
   "outputs": [],
   "source": [
    "# using separete data structure\n",
    "zeroLocation = []\n",
    "for i in range(6):\n",
    "    for j in range(5):\n",
    "        if matrix[i,j] == 0:\n",
    "            zeroLocation.append((i,j))\n",
    "for item in zeroLocation:\n",
    "    iLoc,jLoc = item\n",
    "    for i in range(6):\n",
    "        matrix[i,jLoc] = 0\n",
    "    for j in range(5):\n",
    "        matrix[iLoc,j] = 0"
   ]
  },
  {
   "cell_type": "code",
   "execution_count": 35,
   "metadata": {},
   "outputs": [
    {
     "data": {
      "text/plain": [
       "array([[ 0,  1,  2,  3,  4],\n",
       "       [ 5,  6,  7,  8,  9],\n",
       "       [10, 11, 12, 13, 14],\n",
       "       [15, 16, 17, 18,  0],\n",
       "       [20, 21, 22, 23, 24],\n",
       "       [25, 26, 27, 28, 29]])"
      ]
     },
     "execution_count": 35,
     "metadata": {},
     "output_type": "execute_result"
    }
   ],
   "source": [
    "matrix"
   ]
  },
  {
   "cell_type": "code",
   "execution_count": 36,
   "metadata": {},
   "outputs": [],
   "source": [
    "# using No additional Data Structure we use rowHasZero and colHasZero variables\n",
    "# and use that space to store the boolean values of the whole rows and columns\n",
    "# then later we make them zero\n",
    "rowHasZero = 0\n",
    "colHasZero = 0\n",
    "flag = 0 \n",
    "# represents that we have not yet found the zero in the matrix\n",
    "\n",
    "for i in range(6):\n",
    "    for j in range(5):\n",
    "        if matrix[i,j] == 0:\n",
    "            if flag == 0:\n",
    "                flag = 1\n",
    "                rowHasZero = i\n",
    "                colHasZero = j\n",
    "            matrix[rowHasZero, j] = 0\n",
    "            matrix[i, colHasZero] = 0\n",
    "\n",
    "# make rows 0 so iterating through column\n",
    "for i in range(6):\n",
    "    if i != rowHasZero and matrix[i,colHasZero] == 0:\n",
    "        for j in range(5):\n",
    "            matrix[i,j] = 0\n",
    "\n",
    "# make columns 0 so iterating through row\n",
    "for i in range(5):\n",
    "    if i != colHasZero and matrix[rowHasZero, i] == 0:\n",
    "        for j in range(6):\n",
    "            matrix[j,i] = 0\n",
    "\n",
    "# making the rowHasZero row and colHasZero column as zero\n",
    "for i in range(6):\n",
    "    matrix[i,colHasZero] = 0\n",
    "for i in range(5):\n",
    "    matrix[rowHasZero,i] = 0"
   ]
  },
  {
   "cell_type": "code",
   "execution_count": 37,
   "metadata": {},
   "outputs": [
    {
     "data": {
      "text/plain": [
       "array([[ 0,  0,  0,  0,  0],\n",
       "       [ 0,  6,  7,  8,  0],\n",
       "       [ 0, 11, 12, 13,  0],\n",
       "       [ 0,  0,  0,  0,  0],\n",
       "       [ 0, 21, 22, 23,  0],\n",
       "       [ 0, 26, 27, 28,  0]])"
      ]
     },
     "execution_count": 37,
     "metadata": {},
     "output_type": "execute_result"
    }
   ],
   "source": [
    "matrix"
   ]
  },
  {
   "cell_type": "code",
   "execution_count": 32,
   "metadata": {},
   "outputs": [],
   "source": []
  },
  {
   "cell_type": "code",
   "execution_count": 33,
   "metadata": {},
   "outputs": [
    {
     "data": {
      "text/plain": [
       "array([[ 0,  0,  0,  0,  0],\n",
       "       [ 0,  6,  7,  8,  0],\n",
       "       [ 0, 11, 12, 13,  0],\n",
       "       [ 0,  0,  0,  0,  0],\n",
       "       [ 0, 21, 22, 23,  0],\n",
       "       [ 0, 26, 27, 28,  0]])"
      ]
     },
     "execution_count": 33,
     "metadata": {},
     "output_type": "execute_result"
    }
   ],
   "source": [
    "matrix"
   ]
  },
  {
   "cell_type": "code",
   "execution_count": null,
   "metadata": {},
   "outputs": [],
   "source": []
  }
 ],
 "metadata": {
  "kernelspec": {
   "display_name": "Python 3",
   "language": "python",
   "name": "python3"
  },
  "language_info": {
   "codemirror_mode": {
    "name": "ipython",
    "version": 3
   },
   "file_extension": ".py",
   "mimetype": "text/x-python",
   "name": "python",
   "nbconvert_exporter": "python",
   "pygments_lexer": "ipython3",
   "version": "3.8.5"
  }
 },
 "nbformat": 4,
 "nbformat_minor": 2
}
